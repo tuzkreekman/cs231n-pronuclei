{
 "cells": [
  {
   "cell_type": "markdown",
   "metadata": {},
   "source": [
    "# Import Libraries"
   ]
  },
  {
   "cell_type": "code",
   "execution_count": 1,
   "metadata": {},
   "outputs": [],
   "source": [
    "# License: BSD\n",
    "# Author: Sasank Chilamkurthy\n",
    "\n",
    "from __future__ import print_function, division\n",
    "\n",
    "import torch\n",
    "import torch.nn as nn\n",
    "import torch.optim as optim\n",
    "from torch.optim import lr_scheduler\n",
    "import numpy as np\n",
    "import torchvision\n",
    "from torchvision import datasets, models, transforms\n",
    "import matplotlib.pyplot as plt\n",
    "import time\n",
    "import os\n",
    "import copy\n",
    "\n",
    "plt.ion()   # interactive mode"
   ]
  },
  {
   "cell_type": "markdown",
   "metadata": {},
   "source": [
    "# Utils"
   ]
  },
  {
   "cell_type": "markdown",
   "metadata": {},
   "source": [
    "#### Visualize model"
   ]
  },
  {
   "cell_type": "code",
   "execution_count": 2,
   "metadata": {},
   "outputs": [],
   "source": [
    "def visualize_model(model, num_images=6):\n",
    "    was_training = model.training\n",
    "    model.eval()\n",
    "    images_so_far = 0\n",
    "    fig = plt.figure()\n",
    "\n",
    "    with torch.no_grad():\n",
    "        for i, (inputs, labels) in enumerate(dataloaders['val']):\n",
    "            inputs = inputs.to(device)\n",
    "            labels = labels.to(device)\n",
    "\n",
    "            outputs = model(inputs)\n",
    "            _, preds = torch.max(outputs, 1)\n",
    "\n",
    "            for j in range(inputs.size()[0]):\n",
    "                images_so_far += 1\n",
    "                ax = plt.subplot(num_images//2, 2, images_so_far)\n",
    "                ax.axis('off')\n",
    "                ax.set_title('predicted: {}'.format(class_names[preds[j]]))\n",
    "                imshow(inputs.cpu().data[j])\n",
    "\n",
    "                if images_so_far == num_images:\n",
    "                    model.train(mode=was_training)\n",
    "                    return\n",
    "        model.train(mode=was_training)"
   ]
  },
  {
   "cell_type": "markdown",
   "metadata": {},
   "source": [
    "#### imshow"
   ]
  },
  {
   "cell_type": "code",
   "execution_count": 3,
   "metadata": {
    "scrolled": true
   },
   "outputs": [],
   "source": [
    "def imshow(inp, title=None):\n",
    "    \"\"\"Imshow for Tensor.\"\"\"\n",
    "    inp = inp.numpy().transpose((1, 2, 0))\n",
    "    mean = np.array([0.485, 0.456, 0.406])\n",
    "    std = np.array([0.229, 0.224, 0.225])\n",
    "    inp = std * inp + mean\n",
    "    inp = np.clip(inp, 0, 1)\n",
    "    plt.imshow(inp)\n",
    "    if title is not None:\n",
    "        plt.title(title)\n",
    "    plt.pause(0.001)  # pause a bit so that plots are updated\n",
    "\n",
    "\n",
    "# # Get a batch of training data\n",
    "# inputs, classes = next(iter(dataloaders['train']))\n",
    "\n",
    "# # Make a grid from batch\n",
    "# out = torchvision.utils.make_grid(inputs)\n",
    "\n",
    "# imshow(out, title=[class_names[x] for x in classes])"
   ]
  },
  {
   "cell_type": "markdown",
   "metadata": {},
   "source": [
    "#### Train model"
   ]
  },
  {
   "cell_type": "code",
   "execution_count": 4,
   "metadata": {},
   "outputs": [],
   "source": [
    "def train_model(model, criterion, optimizer, scheduler, num_epochs=25):\n",
    "    since = time.time()\n",
    "\n",
    "    best_model_wts = copy.deepcopy(model.state_dict())\n",
    "    best_acc = 0.0\n",
    "\n",
    "    for epoch in range(num_epochs):\n",
    "        print('Epoch {}/{}'.format(epoch, num_epochs - 1))\n",
    "        print('-' * 10)\n",
    "\n",
    "        # Each epoch has a training and validation phase\n",
    "        for phase in ['train', 'val']:\n",
    "            if phase == 'train':\n",
    "                scheduler.step()\n",
    "                model.train()  # Set model to training mode\n",
    "            else:\n",
    "                model.eval()   # Set model to evaluate mode\n",
    "\n",
    "            running_loss = 0.0\n",
    "            running_corrects = 0\n",
    "\n",
    "            # Iterate over data.\n",
    "            for inputs, labels in dataloaders[phase]:\n",
    "                inputs = inputs.to(device)\n",
    "                labels = labels.to(device)\n",
    "\n",
    "                # zero the parameter gradients\n",
    "                optimizer.zero_grad()\n",
    "\n",
    "                # forward\n",
    "                # track history if only in train\n",
    "                with torch.set_grad_enabled(phase == 'train'):\n",
    "                    outputs = model(inputs)\n",
    "                    _, preds = torch.max(outputs, 1)\n",
    "                    loss = criterion(outputs, labels)\n",
    "\n",
    "                    # backward + optimize only if in training phase\n",
    "                    if phase == 'train':\n",
    "                        loss.backward()\n",
    "                        optimizer.step()\n",
    "\n",
    "                # statistics\n",
    "                running_loss += loss.item() * inputs.size(0)\n",
    "                running_corrects += torch.sum(preds == labels.data)\n",
    "\n",
    "            epoch_loss = running_loss / dataset_sizes[phase]\n",
    "            epoch_acc = running_corrects.double() / dataset_sizes[phase]\n",
    "\n",
    "            print('{} Loss: {:.4f} Acc: {:.4f}'.format(\n",
    "                phase, epoch_loss, epoch_acc))\n",
    "\n",
    "            # deep copy the model\n",
    "            if phase == 'val' and epoch_acc > best_acc:\n",
    "                best_acc = epoch_acc\n",
    "                best_model_wts = copy.deepcopy(model.state_dict())\n",
    "\n",
    "        print()\n",
    "\n",
    "    time_elapsed = time.time() - since\n",
    "    print('Training complete in {:.0f}m {:.0f}s'.format(\n",
    "        time_elapsed // 60, time_elapsed % 60))\n",
    "    print('Best val Acc: {:4f}'.format(best_acc))\n",
    "\n",
    "    # load best model weights\n",
    "    model.load_state_dict(best_model_wts)\n",
    "    return model"
   ]
  },
  {
   "cell_type": "markdown",
   "metadata": {},
   "source": [
    "#### Load data"
   ]
  },
  {
   "cell_type": "code",
   "execution_count": 5,
   "metadata": {},
   "outputs": [],
   "source": [
    "# Data augmentation and normalization for training\n",
    "# Just normalization for validation\n",
    "data_transforms = {\n",
    "    'train': transforms.Compose([\n",
    "        transforms.RandomRotation((-45, 45)),\n",
    "        transforms.RandomResizedCrop(224),\n",
    "        transforms.RandomHorizontalFlip(),\n",
    "        transforms.RandomVerticalFlip(), \n",
    "        transforms.ToTensor(),\n",
    "        transforms.ColorJitter(), \n",
    "        transforms.Normalize([0.485, 0.456, 0.406], [0.229, 0.224, 0.225])\n",
    "    ]),\n",
    "    'val': transforms.Compose([\n",
    "        transforms.Resize(256),\n",
    "        transforms.CenterCrop(224),\n",
    "        transforms.ToTensor(),\n",
    "        transforms.Normalize([0.485, 0.456, 0.406], [0.229, 0.224, 0.225])\n",
    "    ]),\n",
    "}\n",
    "\n",
    "data_dir = 'dataset'\n",
    "image_datasets = {x: datasets.ImageFolder(os.path.join(data_dir, x),\n",
    "                                          data_transforms[x])\n",
    "                  for x in ['train', 'val']}\n",
    "dataloaders = {x: torch.utils.data.DataLoader(image_datasets[x], batch_size=4,\n",
    "                                             shuffle=True, num_workers=4)\n",
    "              for x in ['train', 'val']}\n",
    "dataset_sizes = {x: len(image_datasets[x]) for x in ['train', 'val']}\n",
    "class_names = image_datasets['train'].classes\n",
    "\n",
    "device = torch.device(\"cuda:0\" if torch.cuda.is_available() else \"cpu\")"
   ]
  },
  {
   "cell_type": "markdown",
   "metadata": {},
   "source": [
    "#### Experiment 1: no freezing"
   ]
  },
  {
   "cell_type": "code",
   "execution_count": 6,
   "metadata": {},
   "outputs": [],
   "source": [
    "model_ft = models.resnet18(pretrained=True)\n",
    "num_ftrs = model_ft.fc.in_features\n",
    "model_ft.fc = nn.Linear(num_ftrs, len(class_names))\n",
    "\n",
    "model_ft = model_ft.to(device)\n",
    "\n",
    "criterion = nn.CrossEntropyLoss()\n",
    "\n",
    "# Observe that all parameters are being optimized\n",
    "optimizer_ft = optim.SGD(model_ft.parameters(), lr=1e-3, momentum=0.9)\n",
    "\n",
    "# Decay LR by a factor of 0.1 every 7 epochs\n",
    "exp_lr_scheduler = lr_scheduler.StepLR(optimizer_ft, step_size=7, gamma=0.1)"
   ]
  },
  {
   "cell_type": "code",
   "execution_count": null,
   "metadata": {},
   "outputs": [
    {
     "name": "stdout",
     "output_type": "stream",
     "text": [
      "Epoch 0/24\n",
      "----------\n",
      "train Loss: 0.5932 Acc: 0.8442\n",
      "val Loss: 0.3919 Acc: 0.8541\n",
      "\n",
      "Epoch 1/24\n",
      "----------\n",
      "train Loss: 0.4715 Acc: 0.8615\n",
      "val Loss: 0.3996 Acc: 0.8884\n",
      "\n",
      "Epoch 2/24\n",
      "----------\n",
      "train Loss: 0.4534 Acc: 0.8692\n",
      "val Loss: 0.3219 Acc: 0.8884\n",
      "\n",
      "Epoch 3/24\n",
      "----------\n",
      "train Loss: 0.4055 Acc: 0.8712\n",
      "val Loss: 0.3290 Acc: 0.8884\n",
      "\n",
      "Epoch 4/24\n",
      "----------\n",
      "train Loss: 0.4351 Acc: 0.8635\n",
      "val Loss: 0.5696 Acc: 0.8841\n",
      "\n",
      "Epoch 5/24\n",
      "----------\n",
      "train Loss: 0.4267 Acc: 0.8615\n",
      "val Loss: 0.2692 Acc: 0.8927\n",
      "\n",
      "Epoch 6/24\n",
      "----------\n",
      "train Loss: 0.3969 Acc: 0.8808\n",
      "val Loss: 0.3850 Acc: 0.8884\n",
      "\n",
      "Epoch 7/24\n",
      "----------\n",
      "train Loss: 0.3510 Acc: 0.8904\n",
      "val Loss: 0.2211 Acc: 0.9142\n",
      "\n",
      "Epoch 8/24\n",
      "----------\n",
      "train Loss: 0.3275 Acc: 0.9000\n",
      "val Loss: 0.2022 Acc: 0.9313\n",
      "\n",
      "Epoch 9/24\n",
      "----------\n",
      "train Loss: 0.3168 Acc: 0.8962\n",
      "val Loss: 0.1979 Acc: 0.9227\n",
      "\n",
      "Epoch 10/24\n",
      "----------\n",
      "train Loss: 0.2819 Acc: 0.9058\n",
      "val Loss: 0.2061 Acc: 0.9056\n",
      "\n",
      "Epoch 11/24\n",
      "----------\n",
      "train Loss: 0.2582 Acc: 0.9096\n",
      "val Loss: 0.1949 Acc: 0.9142\n",
      "\n",
      "Epoch 12/24\n",
      "----------\n",
      "train Loss: 0.3002 Acc: 0.9019\n",
      "val Loss: 0.2001 Acc: 0.9013\n",
      "\n",
      "Epoch 13/24\n",
      "----------\n",
      "train Loss: 0.2887 Acc: 0.9115\n",
      "val Loss: 0.1773 Acc: 0.9356\n",
      "\n",
      "Epoch 14/24\n",
      "----------\n",
      "train Loss: 0.2797 Acc: 0.9077\n",
      "val Loss: 0.1799 Acc: 0.9399\n",
      "\n",
      "Epoch 15/24\n",
      "----------\n"
     ]
    }
   ],
   "source": [
    "model_ft = train_model(model_ft, criterion, optimizer_ft, exp_lr_scheduler,\n",
    "                       num_epochs=25)"
   ]
  },
  {
   "cell_type": "code",
   "execution_count": 38,
   "metadata": {},
   "outputs": [
    {
     "data": {
      "image/png": "[encoded data removed]",
      "text/plain": [
       "<Figure size 432x288 with 1 Axes>"
      ]
     },
     "metadata": {},
     "output_type": "display_data"
    },
    {
     "data": {
      "image/png": "[encoded data removed]",
      "text/plain": [
       "<Figure size 432x288 with 1 Axes>"
      ]
     },
     "metadata": {},
     "output_type": "display_data"
    },
    {
     "data": {
      "image/png": "[encoded data removed]",
      "text/plain": [
       "<Figure size 432x288 with 1 Axes>"
      ]
     },
     "metadata": {},
     "output_type": "display_data"
    },
    {
     "data": {
      "image/png": "[encoded data removed]",
      "text/plain": [
       "<Figure size 432x288 with 1 Axes>"
      ]
     },
     "metadata": {},
     "output_type": "display_data"
    },
    {
     "data": {
      "image/png": "[encoded data removed]",
      "text/plain": [
       "<Figure size 432x288 with 1 Axes>"
      ]
     },
     "metadata": {},
     "output_type": "display_data"
    },
    {
     "data": {
      "image/png": "[encoded data removed]",
      "text/plain": [
       "<Figure size 432x288 with 1 Axes>"
      ]
     },
     "metadata": {},
     "output_type": "display_data"
    }
   ],
   "source": [
    "visualize_model(model_ft)\n",
    "plt.show()"
   ]
  },
  {
   "cell_type": "markdown",
   "metadata": {},
   "source": [
    "##### Experiment 2: freezing except last layer"
   ]
  },
  {
   "cell_type": "code",
   "execution_count": 32,
   "metadata": {},
   "outputs": [],
   "source": [
    "model_conv = torchvision.models.resnet18(pretrained=True)\n",
    "for param in model_conv.parameters():\n",
    "    param.requires_grad = False\n",
    "\n",
    "# Parameters of newly constructed modules have requires_grad=True by default\n",
    "num_ftrs = model_conv.fc.in_features\n",
    "model_conv.fc = nn.Linear(num_ftrs, 2)\n",
    "\n",
    "model_conv = model_conv.to(device)\n",
    "\n",
    "criterion = nn.CrossEntropyLoss()\n",
    "\n",
    "# Observe that only parameters of final layer are being optimized as\n",
    "# opposed to before.\n",
    "optimizer_conv = optim.SGD(model_conv.fc.parameters(), lr=0.001, momentum=0.9)\n",
    "\n",
    "# Decay LR by a factor of 0.1 every 7 epochs\n",
    "exp_lr_scheduler = lr_scheduler.StepLR(optimizer_conv, step_size=7, gamma=0.1)"
   ]
  },
  {
   "cell_type": "code",
   "execution_count": 33,
   "metadata": {},
   "outputs": [
    {
     "name": "stdout",
     "output_type": "stream",
     "text": [
      "Epoch 0/24\n",
      "----------\n",
      "train Loss: 0.5368 Acc: 0.8654\n",
      "val Loss: 0.4857 Acc: 0.8755\n",
      "\n",
      "Epoch 1/24\n",
      "----------\n",
      "train Loss: 0.5319 Acc: 0.8654\n",
      "val Loss: 0.4850 Acc: 0.8755\n",
      "\n",
      "Epoch 2/24\n",
      "----------\n",
      "train Loss: 0.5362 Acc: 0.8654\n",
      "val Loss: 0.4858 Acc: 0.8755\n",
      "\n",
      "Epoch 3/24\n",
      "----------\n",
      "train Loss: 0.5297 Acc: 0.8654\n",
      "val Loss: 0.4844 Acc: 0.8755\n",
      "\n",
      "Epoch 4/24\n",
      "----------\n",
      "train Loss: 0.5228 Acc: 0.8654\n",
      "val Loss: 0.4906 Acc: 0.8755\n",
      "\n",
      "Epoch 5/24\n",
      "----------\n",
      "train Loss: 0.5286 Acc: 0.8654\n",
      "val Loss: 0.4872 Acc: 0.8755\n",
      "\n",
      "Epoch 6/24\n",
      "----------\n",
      "train Loss: 0.5289 Acc: 0.8654\n",
      "val Loss: 0.4875 Acc: 0.8755\n",
      "\n",
      "Epoch 7/24\n",
      "----------\n",
      "train Loss: 0.5346 Acc: 0.8654\n",
      "val Loss: 0.4862 Acc: 0.8755\n",
      "\n",
      "Epoch 8/24\n",
      "----------\n",
      "train Loss: 0.5299 Acc: 0.8654\n",
      "val Loss: 0.4866 Acc: 0.8755\n",
      "\n",
      "Epoch 9/24\n",
      "----------\n",
      "train Loss: 0.5297 Acc: 0.8654\n",
      "val Loss: 0.4854 Acc: 0.8755\n",
      "\n",
      "Epoch 10/24\n",
      "----------\n",
      "train Loss: 0.5262 Acc: 0.8654\n",
      "val Loss: 0.4875 Acc: 0.8755\n",
      "\n",
      "Epoch 11/24\n",
      "----------\n",
      "train Loss: 0.5209 Acc: 0.8654\n",
      "val Loss: 0.4866 Acc: 0.8755\n",
      "\n",
      "Epoch 12/24\n",
      "----------\n",
      "train Loss: 0.5226 Acc: 0.8654\n",
      "val Loss: 0.4860 Acc: 0.8755\n",
      "\n",
      "Epoch 13/24\n",
      "----------\n",
      "train Loss: 0.5302 Acc: 0.8654\n",
      "val Loss: 0.4887 Acc: 0.8755\n",
      "\n",
      "Epoch 14/24\n",
      "----------\n",
      "train Loss: 0.5311 Acc: 0.8654\n",
      "val Loss: 0.4889 Acc: 0.8755\n",
      "\n",
      "Epoch 15/24\n",
      "----------\n",
      "train Loss: 0.5372 Acc: 0.8654\n",
      "val Loss: 0.4881 Acc: 0.8755\n",
      "\n",
      "Epoch 16/24\n",
      "----------\n",
      "train Loss: 0.5293 Acc: 0.8654\n",
      "val Loss: 0.4845 Acc: 0.8755\n",
      "\n",
      "Epoch 17/24\n",
      "----------\n",
      "train Loss: 0.5206 Acc: 0.8654\n",
      "val Loss: 0.4905 Acc: 0.8755\n",
      "\n",
      "Epoch 18/24\n",
      "----------\n",
      "train Loss: 0.5285 Acc: 0.8654\n",
      "val Loss: 0.4860 Acc: 0.8755\n",
      "\n",
      "Epoch 19/24\n",
      "----------\n",
      "train Loss: 0.5227 Acc: 0.8654\n",
      "val Loss: 0.4852 Acc: 0.8755\n",
      "\n",
      "Epoch 20/24\n",
      "----------\n",
      "train Loss: 0.5391 Acc: 0.8654\n",
      "val Loss: 0.4849 Acc: 0.8755\n",
      "\n",
      "Epoch 21/24\n",
      "----------\n",
      "train Loss: 0.5304 Acc: 0.8654\n",
      "val Loss: 0.4885 Acc: 0.8755\n",
      "\n",
      "Epoch 22/24\n",
      "----------\n",
      "train Loss: 0.5313 Acc: 0.8654\n",
      "val Loss: 0.4875 Acc: 0.8755\n",
      "\n",
      "Epoch 23/24\n",
      "----------\n",
      "train Loss: 0.5293 Acc: 0.8654\n",
      "val Loss: 0.4860 Acc: 0.8755\n",
      "\n",
      "Epoch 24/24\n",
      "----------\n",
      "train Loss: 0.5287 Acc: 0.8654\n",
      "val Loss: 0.4862 Acc: 0.8755\n",
      "\n",
      "Training complete in 8m 26s\n",
      "Best val Acc: 0.875536\n"
     ]
    }
   ],
   "source": [
    "model_ft = train_model(model_ft, criterion, optimizer_ft, exp_lr_scheduler,\n",
    "                       num_epochs=25)"
   ]
  }
 ],
 "metadata": {
  "kernelspec": {
   "display_name": "Python 3",
   "language": "python",
   "name": "python3"
  },
  "language_info": {
   "codemirror_mode": {
    "name": "ipython",
    "version": 3
   },
   "file_extension": ".py",
   "mimetype": "text/x-python",
   "name": "python",
   "nbconvert_exporter": "python",
   "pygments_lexer": "ipython3",
   "version": "3.7.1"
  }
 },
 "nbformat": 4,
 "nbformat_minor": 2
}
