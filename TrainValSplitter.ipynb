{
 "cells": [
  {
   "cell_type": "code",
   "execution_count": 33,
   "metadata": {},
   "outputs": [],
   "source": [
    "import os\n",
    "import sys"
   ]
  },
  {
   "cell_type": "code",
   "execution_count": 34,
   "metadata": {},
   "outputs": [],
   "source": [
    "# assumes data is in folder of 'dataset/train/#CLASSNAME#/#BLAH.jpg#'"
   ]
  },
  {
   "cell_type": "code",
   "execution_count": 35,
   "metadata": {},
   "outputs": [],
   "source": [
    "dataset = './dataset'"
   ]
  },
  {
   "cell_type": "code",
   "execution_count": 36,
   "metadata": {},
   "outputs": [],
   "source": [
    "files = {}\n",
    "for class_ in os.listdir(dataset + '/train'):\n",
    "    filesInClass = []\n",
    "    files[class_] = filesInClass\n",
    "    for img_file in os.listdir(dataset + '/train/' + class_):\n",
    "        files[class_].append(class_+'/'+img_file)"
   ]
  },
  {
   "cell_type": "code",
   "execution_count": 7,
   "metadata": {},
   "outputs": [],
   "source": [
    "import numpy as np"
   ]
  },
  {
   "cell_type": "code",
   "execution_count": 52,
   "metadata": {},
   "outputs": [],
   "source": [
    "val_indices = {k:np.random.uniform(size=len(v)) for k,v in files.items()}"
   ]
  },
  {
   "cell_type": "code",
   "execution_count": 63,
   "metadata": {},
   "outputs": [],
   "source": [
    "val_indices_bool = {k:[True if x>.7 else False for x in v] for k,v in val_indices.items()}"
   ]
  },
  {
   "cell_type": "code",
   "execution_count": 69,
   "metadata": {},
   "outputs": [],
   "source": [
    "for k,v in files.items():\n",
    "    toMove = val_indices_bool[k]\n",
    "    for i,x in enumerate(v):\n",
    "        if toMove[i]:\n",
    "            fNameBefore = './dataset/train/'+x\n",
    "            fNameAfter = './dataset/val/'+x\n",
    "            os.system(\"mv '\"+ fNameBefore +\"' '\" + fNameAfter +\"'\")"
   ]
  },
  {
   "cell_type": "code",
   "execution_count": 70,
   "metadata": {},
   "outputs": [
    {
     "name": "stdout",
     "output_type": "stream",
     "text": [
      "3pn: 65\n",
      "nf: 2\n",
      "1pn: 15\n",
      "gv: 17\n",
      "2pn: 654\n"
     ]
    }
   ],
   "source": [
    "for k,v in files.items():\n",
    "    print(k + \": \"+str(len(v)))"
   ]
  },
  {
   "cell_type": "code",
   "execution_count": 72,
   "metadata": {},
   "outputs": [
    {
     "name": "stdout",
     "output_type": "stream",
     "text": [
      "3pn: 45\n",
      "nf: 2\n",
      "1pn: 10\n",
      "gv: 13\n",
      "2pn: 450\n"
     ]
    }
   ],
   "source": [
    "filesAfter = {}\n",
    "for class_ in os.listdir(dataset + '/train'):\n",
    "    filesInClass = []\n",
    "    filesAfter[class_] = filesInClass\n",
    "    for img_file in os.listdir(dataset + '/train/' + class_):\n",
    "        filesAfter[class_].append(class_+'/'+img_file)\n",
    "for k,v in filesAfter.items():\n",
    "    print(k + \": \"+str(len(v)))"
   ]
  },
  {
   "cell_type": "code",
   "execution_count": 73,
   "metadata": {},
   "outputs": [
    {
     "name": "stdout",
     "output_type": "stream",
     "text": [
      "3pn: 20\n",
      "nf: 0\n",
      "1pn: 5\n",
      "gv: 4\n",
      "2pn: 204\n"
     ]
    }
   ],
   "source": [
    "filesAfter = {}\n",
    "for class_ in os.listdir(dataset + '/val'):\n",
    "    filesInClass = []\n",
    "    filesAfter[class_] = filesInClass\n",
    "    for img_file in os.listdir(dataset + '/val/' + class_):\n",
    "        filesAfter[class_].append(class_+'/'+img_file)\n",
    "for k,v in filesAfter.items():\n",
    "    print(k + \": \"+str(len(v)))"
   ]
  },
  {
   "cell_type": "code",
   "execution_count": null,
   "metadata": {},
   "outputs": [],
   "source": []
  }
 ],
 "metadata": {
  "kernelspec": {
   "display_name": "Python 3",
   "language": "python",
   "name": "python3"
  },
  "language_info": {
   "codemirror_mode": {
    "name": "ipython",
    "version": 3
   },
   "file_extension": ".py",
   "mimetype": "text/x-python",
   "name": "python",
   "nbconvert_exporter": "python",
   "pygments_lexer": "ipython3",
   "version": "3.6.8"
  }
 },
 "nbformat": 4,
 "nbformat_minor": 2
}
